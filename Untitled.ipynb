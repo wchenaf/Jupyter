{
 "cells": [
  {
   "cell_type": "code",
   "execution_count": 36,
   "metadata": {},
   "outputs": [],
   "source": [
    "def date_conversion_robust(date_string):\n",
    "    \"\"\"\n",
    "    Converts date string from slash format to dash format.\n",
    "    Checks if input date is valid; if not, prints an error and returns None.\n",
    "\n",
    "    Valid dates are as follows:\n",
    "    - European date ordering (day-month-year).\n",
    "    - Two-digit years are in the past century (1919-2018 is \"past century\", 2019- is not...).\n",
    "    - The year of the date is in either range 00 - 99 or 1000 - 9999\n",
    "\n",
    "    Parameters:\n",
    "        date_string: string date in \"slash\" format, eg, 19/8/16, 1/12/1898, 1/1/20 (DO NOT assume every input is a valid date)\n",
    "\n",
    "    Returns:\n",
    "        if input was valid: string date in \"dash\" format, eg, 19-08-2016, 01-12-1898, 01-01-1920\n",
    "        if input was not valid: print out \"Not a valid date\", return None\n",
    "\n",
    "    Example use:\n",
    "    >>> print(date_conversion_robust('19/8/16'))\n",
    "    19-08-2016\n",
    "    >>> print(date_conversion_robust('1/12/1898'))\n",
    "    01-12-1898\n",
    "    >>> print(date_conversion_robust('16/3/20'))\n",
    "    16-03-1920\n",
    "    >>> print(date_conversion_robust('29/2/2017'))\n",
    "    Not a valid date.\n",
    "    None\n",
    "    >>> print(date_conversion_robust('131/2/1928'))\n",
    "    Not a valid date.\n",
    "    None\n",
    "    >>> print(date_conversion_robust(2))\n",
    "    Not a valid date.\n",
    "    None\n",
    "    \"\"\"\n",
    "    # DON'T CHANGE ANYTHING ABOVE\n",
    "    # YOUR CODE BELOW\n",
    "    \n",
    "    # not str\n",
    "    if type(date_string)!=str:\n",
    "        print('Not a valid date.')\n",
    "        return None\n",
    "    \n",
    "    \n",
    "    \n",
    "    date_as_list = date_string.split('/')\n",
    "    # not three parts\n",
    "    if len(date_as_list)!=3:\n",
    "        print('Not a valid date.')\n",
    "        return None\n",
    "    \n",
    "    \n",
    "    \n",
    "    str_day = date_as_list[0] \n",
    "    str_month = date_as_list[1] \n",
    "    str_year = date_as_list[2] \n",
    "    no_year = int(str_year)\n",
    "    no_day = int(str_day)\n",
    "    no_month = int(str_month)\n",
    "    print(no_year)\n",
    "    \n",
    "    #initial check\n",
    "    if len(str_year)==3:\n",
    "        print('Not a valid date.')\n",
    "        return None\n",
    "    \n",
    "    if no_year<0 or no_month<1 or no_day<1:\n",
    "        print('Not a valid date.')\n",
    "        return None\n",
    "    \n",
    "    if date_string.find('/')==-1 or date_string.find('/')==date_string.rfind('/'):\n",
    "        print('Not a valid date.')\n",
    "        return None\n",
    "    \n",
    "    #calculate full year\n",
    "    if no_year < 19 :\n",
    "        no_year = 2000 + no_year\n",
    "    elif no_year <= 99:\n",
    "        no_year = 1900 + no_year\n",
    "        \n",
    "    #February case\n",
    "    if no_day>28 and no_month==2:\n",
    "        if no_day==29:\n",
    "            is_leap=no_year % 4 ==0 and no_year % 100!=0\n",
    "            if not is_leap:\n",
    "                print('Not a valid date.')\n",
    "                return None\n",
    "        else:\n",
    "            print('Not a valid date.')\n",
    "            return None\n",
    "    \n",
    "    #Other months\n",
    "    if no_day>31:\n",
    "        print('Not a valid date.')\n",
    "        return None\n",
    "    if no_day==31 and no_month in [4, 6, 9, 11]:\n",
    "        print('Not a valid date.')\n",
    "        return None\n",
    "    \n",
    "    #print\n",
    "    str_day = '%02d' % no_day\n",
    "    str_month = '%02d' % no_month\n",
    "    str_year = '%04d' % no_year\n",
    "    \n",
    "    date_string_dash = str_day + \"-\" + str_month + \"-\" + str_year\n",
    "    return date_string_dash\n"
   ]
  },
  {
   "cell_type": "code",
   "execution_count": 37,
   "metadata": {},
   "outputs": [
    {
     "name": "stdout",
     "output_type": "stream",
     "text": [
      "1\n"
     ]
    },
    {
     "data": {
      "text/plain": [
       "'01-02-2001'"
      ]
     },
     "execution_count": 37,
     "metadata": {},
     "output_type": "execute_result"
    }
   ],
   "source": [
    "date_conversion_robust('1/2/1')"
   ]
  }
 ],
 "metadata": {
  "kernelspec": {
   "display_name": "Python [conda env:Anaconda3]",
   "language": "python",
   "name": "conda-env-Anaconda3-py"
  },
  "language_info": {
   "codemirror_mode": {
    "name": "ipython",
    "version": 3
   },
   "file_extension": ".py",
   "mimetype": "text/x-python",
   "name": "python",
   "nbconvert_exporter": "python",
   "pygments_lexer": "ipython3",
   "version": "3.6.5"
  }
 },
 "nbformat": 4,
 "nbformat_minor": 2
}
