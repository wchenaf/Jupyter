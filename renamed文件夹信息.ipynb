{
 "cells": [
  {
   "cell_type": "code",
   "execution_count": 1,
   "metadata": {
    "scrolled": true
   },
   "outputs": [],
   "source": [
    "import os \n",
    "import time\n",
    "import requests\n",
    "import json\n",
    "import re\n",
    "import pandas as pd\n",
    "from multiprocessing import Pool\n",
    "from multiprocessing.dummy import Pool as ThreadPool\n",
    "import pickle\n",
    "from IPython.display import Image\n",
    "from IPython.core.display import display, HTML\n",
    "\n",
    "def save_obj(obj, name ):\n",
    "    with open('obj/'+ name + '.pkl', 'wb') as f:\n",
    "        pickle.dump(obj, f, pickle.HIGHEST_PROTOCOL)\n",
    "\n",
    "def load_obj(name ):\n",
    "    with open('obj/' + name + '.pkl', 'rb') as f:\n",
    "        return pickle.load(f)\n",
    "\n",
    "indexnum=0\n",
    "\n",
    "#list of [片名，路径]\n",
    "namelist=[]\n",
    "\n",
    "#已下载无字幕番号合集\n",
    "nonsublist=[]\n",
    "\n",
    "\n",
    "privatelist=load_obj('privatelist')\n",
    "sosolist=load_obj('sosolist')\n",
    "badlist=load_obj('badlist')\n",
    "collectedlist=load_obj('collectedlist')\n",
    "\n",
    "\n",
    "def sortFunc(e):\n",
    "    return e[1]\n",
    "\n",
    "def get_size(start_path = '.'):\n",
    "    total_size = 0\n",
    "    for dirpath, dirnames, filenames in os.walk(start_path):\n",
    "        for f in filenames:\n",
    "            fp = os.path.join(dirpath, f)\n",
    "            total_size += os.path.getsize(fp)\n",
    "    return (total_size/1024/1024)\n",
    "\n",
    "\n",
    "\n",
    "def largets_file(start_path = '.'):\n",
    "    largest=''\n",
    "    max_size=0\n",
    "    for f in next( os.walk(start_path) )[2]:\n",
    "        fp = os.path.join(start_path, f)\n",
    "        size=os.path.getsize(fp)\n",
    "        if size>max_size:\n",
    "            max_size=size\n",
    "            largest=fp\n",
    "    return largest\n",
    "\n",
    "def largets_file_size(start_path = '.'):\n",
    "    #print(start_path)\n",
    "    max_size=0\n",
    "    if len(next( os.walk(start_path) )[2])>0:\n",
    "        for f in next( os.walk(start_path) )[2]:\n",
    "            fp = os.path.join(start_path, f)\n",
    "            size=os.path.getsize(fp)\n",
    "            if size>max_size:\n",
    "                max_size=size\n",
    "    return max_size/1024/1024\n",
    "\n",
    "\n",
    "headers = {'User-Agent':\n",
    "               'Mozilla/5.0 (Windows NT 10.0; WOW64)\\\n",
    "               AppleWebKit/537.36(KHTML, like Gecko)\\\n",
    "               Chrome/55.0.2883.87 Safari/537.36'}\n",
    "\n",
    "def javbusPage(code):\n",
    "    url = 'https://www.javbus.com/'+code\n",
    "\n",
    "    web = requests.get(url, headers=headers)\n",
    "    web.encoding = 'utl-8'\n",
    "\n",
    "    Page = web.text\n",
    "    return Page\n",
    "        \n",
    "def imageUrl(Page):\n",
    "    imageurl=re.findall(r'<a class=\"bigImage\" href=\"(.*?)\">',Page)\n",
    "    if len(imageurl)>0:\n",
    "        imageurl=imageurl[0]\n",
    "    else:\n",
    "        imageurl=''\n",
    "    return imageurl\n",
    "\n",
    "def actresses(Page):\n",
    "    actresslist=re.findall(r'<div class=\"star-name\"><a href=\"https://www.javbus.com/star/(.*?)\" title=\".*?\">(.*?)<', Page)\n",
    "    return actresslist\n",
    "\n",
    "def existedAdress(code):\n",
    "    existlist=[]\n",
    "    for folder in namelist:\n",
    "        if folder[0]==code:\n",
    "            existlist.append(folder[1])\n",
    "    return existlist\n",
    "\n",
    "def completeinfo(code):\n",
    "\n",
    "    Page = javbusPage(code)\n",
    "    actresslist=actresses(Page)\n",
    "    imageurl=imageUrl(Page)\n",
    "    \n",
    "    existlist=existedAdress(code)\n",
    "    \n",
    "    return [code,actresslist,existlist,imageurl]\n",
    "\n",
    "def prt(msg):\n",
    "    print(msg)\n",
    "    print(msg,file=f)\n",
    "    \n",
    "def showAsLink(url,linktext,text=''):\n",
    "    display(HTML(r'<p><a  href=\"'+url+'\">'+linktext+'</a>'+text+'</p>'))\n",
    "    \n",
    "def linkFormat(url,linktext):\n",
    "    return r'<a  href=\"'+url+'\">'+linktext+'</a>'\n",
    "\n",
    "def colorFormat(text,color):\n",
    "    return '<font color=\"'+color+'\">'+text+'</font>'\n",
    "\n",
    "def wrapFormat(fmat,content):\n",
    "    return '<'+fmat+'>'+content+'</'+fmat+'>'\n",
    "\n",
    "def printHtml(contentlist):\n",
    "    display(HTML(''.join(contentlist)))\n",
    "    \n",
    "\n",
    "\n",
    "def findmag(prefixnum):\n",
    "    prefix=prefixnum[0]\n",
    "    num=prefixnum[1]\n",
    "    result=[]\n",
    "    print(prefix.upper()+'-'+num+'开始搜索:')\n",
    "    print()\n",
    "    maglist=[]\n",
    "    keywordlist=[]\n",
    "    \n",
    "    keywordlist.append(prefix+'-'+num+'r')\n",
    "    keywordlist.append(prefix+'-'+num+'c')\n",
    "    keywordlist.append(prefix+num+'c')\n",
    "    keywordlist.append(prefix+num+'cmp4')\n",
    "    \n",
    "    for keyword in keywordlist:\n",
    "        url = 'https://m.zhongziso.com/list/'+keyword+'/1'\n",
    "\n",
    "        web = requests.get(url, headers=headers)\n",
    "        web.encoding = 'utl-8'\n",
    "\n",
    "        Page = web.text\n",
    "\n",
    "        indexr=Page.find('<span class=\"highlight\">'+keyword+'</span>')\n",
    "\n",
    "        if (indexr!=-1):\n",
    "            print(keyword+'有带字幕链接')\n",
    "            result.append(keyword+'有带字幕链接')\n",
    "            result.append('网址：')\n",
    "            result.append(url)\n",
    "            result.append('磁力链接：')\n",
    "\n",
    "            maglist=re.findall('magnet:/?.*?(?=\")', Page)\n",
    "            for item in maglist:\n",
    "                result.append(item)\n",
    "            result.append(' ')\n",
    "    \n",
    "    print('-------------------------------------------------------------------------')\n",
    "    print()\n",
    "    return result\n",
    "\n",
    "def findmagpure(prefixnum):\n",
    "    prefix=prefixnum[0]\n",
    "    num=prefixnum[1]\n",
    "    result=[]\n",
    "    print(prefix.upper()+'-'+num+'开始搜索:')\n",
    "    print()\n",
    "    maglist=[]\n",
    "    keywordlist=[]\n",
    "    \n",
    "    keywordlist.append(prefix+'-'+num+'r')\n",
    "    keywordlist.append(prefix+'-'+num+'c')\n",
    "    keywordlist.append(prefix+num+'c')\n",
    "    keywordlist.append(prefix+num+'cmp4')\n",
    "    \n",
    "    for keyword in keywordlist:\n",
    "        url = 'https://m.zhongziso.com/list/'+keyword+'/1'\n",
    "\n",
    "        web = requests.get(url, headers=headers)\n",
    "        web.encoding = 'utl-8'\n",
    "\n",
    "        Page = web.text\n",
    "\n",
    "        indexr=Page.find('<span class=\"highlight\">'+keyword+'</span>')\n",
    "\n",
    "        if (indexr!=-1):\n",
    "            maglist=re.findall('magnet:/?.*?(?=\")', Page)\n",
    "            for item in maglist:\n",
    "                print(item)\n",
    "                result.append(item)\n",
    "\n",
    "    return result\n",
    "\n",
    "def getCodes(drivelist):\n",
    "    codelist=[]\n",
    "    for g in drivelist:\n",
    "        for path,dir_list,file_list in g:  \n",
    "            for dir_name in dir_list:\n",
    "                index_=dir_name.find('-')\n",
    "                if (index_!=-1) and (index_<len(dir_name)-1):\n",
    "                    indexnum=index_+1\n",
    "                    while (dir_name[indexnum].isdigit()) and (indexnum<len(dir_name)):\n",
    "                        indexnum+=1\n",
    "                        if indexnum==len(dir_name):\n",
    "                            break\n",
    "                    code=dir_name[:indexnum]\n",
    "                    codelist.append(code)\n",
    "    codelist.sort()\n",
    "    return codelist"
   ]
  },
  {
   "cell_type": "markdown",
   "metadata": {},
   "source": [
    "# 番号信息"
   ]
  },
  {
   "cell_type": "code",
   "execution_count": 2,
   "metadata": {
    "scrolled": false
   },
   "outputs": [
    {
     "data": {
      "text/html": [
       "<h1><a  href=\"https://www.javbus.com/SRS-080\">SRS-080</a>  <small><a  href=\"http://www.javlibrary.com/cn/vl_searchbyid.php?keyword=SRS-080\">JavLibrary</a></small>"
      ],
      "text/plain": [
       "<IPython.core.display.HTML object>"
      ]
     },
     "metadata": {},
     "output_type": "display_data"
    },
    {
     "data": {
      "text/html": [
       "<big><a  href=\"localexplorer:g:/DELETED/SRS-080\">file://</a>g:/DELETED/SRS-080</big><br>[]   0MB"
      ],
      "text/plain": [
       "<IPython.core.display.HTML object>"
      ]
     },
     "metadata": {},
     "output_type": "display_data"
    },
    {
     "data": {
      "text/html": [
       "<img src=https://pics.javbus.com/cover/6oar_b.jpg>"
      ],
      "text/plain": [
       "<IPython.core.display.HTML object>"
      ]
     },
     "metadata": {},
     "output_type": "display_data"
    },
    {
     "name": "stdout",
     "output_type": "stream",
     "text": [
      "\n",
      "\n",
      "\n",
      "===================================================================================================================\n",
      "###################################################################################################################\n",
      "===================================================================================================================\n"
     ]
    },
    {
     "data": {
      "text/html": [
       "<h1><a  href=\"https://www.javbus.com/SSNI-054\">SSNI-054</a>  <small><a  href=\"http://www.javlibrary.com/cn/vl_searchbyid.php?keyword=SSNI-054\">JavLibrary</a></small>"
      ],
      "text/plain": [
       "<IPython.core.display.HTML object>"
      ]
     },
     "metadata": {},
     "output_type": "display_data"
    },
    {
     "data": {
      "text/html": [
       "<big><a  href=\"localexplorer:g:/Collected/三上悠亜/SSNI-054_CAVI\">file://</a>g:/Collected/三上悠亜/SSNI-054_CAVI</big><br>['SSNI054C.mp4']   1409MB"
      ],
      "text/plain": [
       "<IPython.core.display.HTML object>"
      ]
     },
     "metadata": {},
     "output_type": "display_data"
    },
    {
     "name": "stdout",
     "output_type": "stream",
     "text": [
      "- - - - - - - - - - - - - - - - - - - - - - - - - \n"
     ]
    },
    {
     "data": {
      "text/html": [
       "<a  href=\"https://www.javbus.com/star/okq\">三上悠亜</a>   Best<br>file://G:/Collected/三上悠亜"
      ],
      "text/plain": [
       "<IPython.core.display.HTML object>"
      ]
     },
     "metadata": {},
     "output_type": "display_data"
    },
    {
     "data": {
      "text/html": [
       "<img src=https://pics.javbus.com/cover/69vl_b.jpg>"
      ],
      "text/plain": [
       "<IPython.core.display.HTML object>"
      ]
     },
     "metadata": {},
     "output_type": "display_data"
    },
    {
     "name": "stdout",
     "output_type": "stream",
     "text": [
      "\n",
      "\n",
      "\n",
      "===================================================================================================================\n",
      "###################################################################################################################\n",
      "===================================================================================================================\n"
     ]
    },
    {
     "data": {
      "text/html": [
       "<h1><a  href=\"https://www.javbus.com/SSNI-073\">SSNI-073</a>  <small><a  href=\"http://www.javlibrary.com/cn/vl_searchbyid.php?keyword=SSNI-073\">JavLibrary</a></small>"
      ],
      "text/plain": [
       "<IPython.core.display.HTML object>"
      ]
     },
     "metadata": {},
     "output_type": "display_data"
    },
    {
     "data": {
      "text/html": [
       "<big><a  href=\"localexplorer:g:/DELETED/SSNI-073\">file://</a>g:/DELETED/SSNI-073</big><br>[]   0MB"
      ],
      "text/plain": [
       "<IPython.core.display.HTML object>"
      ]
     },
     "metadata": {},
     "output_type": "display_data"
    },
    {
     "name": "stdout",
     "output_type": "stream",
     "text": [
      "- - - - - - - - - - - - - - - - - - - - - - - - - \n"
     ]
    },
    {
     "data": {
      "text/html": [
       "<a  href=\"https://www.javbus.com/star/rmx\">吉高寧々</a>   Best<br>file://G:/Collected/吉高寧々"
      ],
      "text/plain": [
       "<IPython.core.display.HTML object>"
      ]
     },
     "metadata": {},
     "output_type": "display_data"
    },
    {
     "data": {
      "text/html": [
       "<img src=https://pics.javbus.com/cover/6awx_b.jpg>"
      ],
      "text/plain": [
       "<IPython.core.display.HTML object>"
      ]
     },
     "metadata": {},
     "output_type": "display_data"
    },
    {
     "name": "stdout",
     "output_type": "stream",
     "text": [
      "\n",
      "\n",
      "\n",
      "===================================================================================================================\n",
      "###################################################################################################################\n",
      "===================================================================================================================\n"
     ]
    },
    {
     "data": {
      "text/html": [
       "<h1><a  href=\"https://www.javbus.com/SSNI-173\">SSNI-173</a>  <small><a  href=\"http://www.javlibrary.com/cn/vl_searchbyid.php?keyword=SSNI-173\">JavLibrary</a></small>"
      ],
      "text/plain": [
       "<IPython.core.display.HTML object>"
      ]
     },
     "metadata": {},
     "output_type": "display_data"
    },
    {
     "data": {
      "text/html": [
       "<big><a  href=\"localexplorer:g:/Collected/吉高寧々/SSNI-173\">file://</a>g:/Collected/吉高寧々/SSNI-173</big><br>['SSNI-173.mp4']   1281MB"
      ],
      "text/plain": [
       "<IPython.core.display.HTML object>"
      ]
     },
     "metadata": {},
     "output_type": "display_data"
    },
    {
     "name": "stdout",
     "output_type": "stream",
     "text": [
      "- - - - - - - - - - - - - - - - - - - - - - - - - \n"
     ]
    },
    {
     "data": {
      "text/html": [
       "<a  href=\"https://www.javbus.com/star/rmx\">吉高寧々</a>   Best<br>file://G:/Collected/吉高寧々"
      ],
      "text/plain": [
       "<IPython.core.display.HTML object>"
      ]
     },
     "metadata": {},
     "output_type": "display_data"
    },
    {
     "data": {
      "text/html": [
       "<img src=https://pics.javbus.com/cover/6hog_b.jpg>"
      ],
      "text/plain": [
       "<IPython.core.display.HTML object>"
      ]
     },
     "metadata": {},
     "output_type": "display_data"
    },
    {
     "name": "stdout",
     "output_type": "stream",
     "text": [
      "\n",
      "\n",
      "\n",
      "===================================================================================================================\n",
      "###################################################################################################################\n",
      "===================================================================================================================\n"
     ]
    },
    {
     "data": {
      "text/html": [
       "<h1><a  href=\"https://www.javbus.com/SSNI-268\">SSNI-268</a>  <small><a  href=\"http://www.javlibrary.com/cn/vl_searchbyid.php?keyword=SSNI-268\">JavLibrary</a></small>"
      ],
      "text/plain": [
       "<IPython.core.display.HTML object>"
      ]
     },
     "metadata": {},
     "output_type": "display_data"
    },
    {
     "data": {
      "text/html": [
       "<big><a  href=\"localexplorer:g:/Collected/RION（宇都宮しをん）/SSNI-268_CAVI\">file://</a>g:/Collected/RION（宇都宮しをん）/SSNI-268_CAVI</big><br>['ssni268.jpg', 'SSNI268_ch.mp4']   1203MB"
      ],
      "text/plain": [
       "<IPython.core.display.HTML object>"
      ]
     },
     "metadata": {},
     "output_type": "display_data"
    },
    {
     "name": "stdout",
     "output_type": "stream",
     "text": [
      "- - - - - - - - - - - - - - - - - - - - - - - - - \n"
     ]
    },
    {
     "data": {
      "text/html": [
       "<a  href=\"https://www.javbus.com/star/p4o\">RION</a>   Best<br>file://G:/Collected/RION（宇都宮しをん）"
      ],
      "text/plain": [
       "<IPython.core.display.HTML object>"
      ]
     },
     "metadata": {},
     "output_type": "display_data"
    },
    {
     "data": {
      "text/html": [
       "<img src=https://pics.javbus.com/cover/6o44_b.jpg>"
      ],
      "text/plain": [
       "<IPython.core.display.HTML object>"
      ]
     },
     "metadata": {},
     "output_type": "display_data"
    },
    {
     "name": "stdout",
     "output_type": "stream",
     "text": [
      "\n",
      "\n",
      "\n",
      "===================================================================================================================\n",
      "###################################################################################################################\n",
      "===================================================================================================================\n"
     ]
    },
    {
     "data": {
      "text/html": [
       "<h1><a  href=\"https://www.javbus.com/SSNI-274\">SSNI-274</a>  <small><a  href=\"http://www.javlibrary.com/cn/vl_searchbyid.php?keyword=SSNI-274\">JavLibrary</a></small>"
      ],
      "text/plain": [
       "<IPython.core.display.HTML object>"
      ]
     },
     "metadata": {},
     "output_type": "display_data"
    },
    {
     "data": {
      "text/html": [
       "<big><a  href=\"localexplorer:g:/Collected/辻本杏/SSNI-274_CAVI_FHD\">file://</a>g:/Collected/辻本杏/SSNI-274_CAVI_FHD</big><br>['SSNI274.FHD.mkv', 'SSNI274.FHD.srt']   6200MB"
      ],
      "text/plain": [
       "<IPython.core.display.HTML object>"
      ]
     },
     "metadata": {},
     "output_type": "display_data"
    },
    {
     "name": "stdout",
     "output_type": "stream",
     "text": [
      "- - - - - - - - - - - - - - - - - - - - - - - - - \n"
     ]
    },
    {
     "data": {
      "text/html": [
       "<a  href=\"https://www.javbus.com/star/b6a\">辻本杏</a>   Best<br>file://G:/Collected/辻本杏"
      ],
      "text/plain": [
       "<IPython.core.display.HTML object>"
      ]
     },
     "metadata": {},
     "output_type": "display_data"
    },
    {
     "data": {
      "text/html": [
       "<img src=https://pics.javbus.com/cover/6o4h_b.jpg>"
      ],
      "text/plain": [
       "<IPython.core.display.HTML object>"
      ]
     },
     "metadata": {},
     "output_type": "display_data"
    },
    {
     "name": "stdout",
     "output_type": "stream",
     "text": [
      "\n",
      "\n",
      "\n",
      "===================================================================================================================\n",
      "###################################################################################################################\n",
      "===================================================================================================================\n"
     ]
    },
    {
     "data": {
      "text/html": [
       "<h1><a  href=\"https://www.javbus.com/SSNI-279\">SSNI-279</a>  <small><a  href=\"http://www.javlibrary.com/cn/vl_searchbyid.php?keyword=SSNI-279\">JavLibrary</a></small>"
      ],
      "text/plain": [
       "<IPython.core.display.HTML object>"
      ]
     },
     "metadata": {},
     "output_type": "display_data"
    },
    {
     "data": {
      "text/html": [
       "<big><a  href=\"localexplorer:g:/Collected/三上悠亜/SSNI-279_CAVI_FHD\">file://</a>g:/Collected/三上悠亜/SSNI-279_CAVI_FHD</big><br>['ssni-279.jpg', 'ssni-279CH1080P.mkv']   5067MB"
      ],
      "text/plain": [
       "<IPython.core.display.HTML object>"
      ]
     },
     "metadata": {},
     "output_type": "display_data"
    },
    {
     "name": "stdout",
     "output_type": "stream",
     "text": [
      "- - - - - - - - - - - - - - - - - - - - - - - - - \n"
     ]
    },
    {
     "data": {
      "text/html": [
       "<a  href=\"https://www.javbus.com/star/okq\">三上悠亜</a>   Best<br>file://G:/Collected/三上悠亜"
      ],
      "text/plain": [
       "<IPython.core.display.HTML object>"
      ]
     },
     "metadata": {},
     "output_type": "display_data"
    },
    {
     "data": {
      "text/html": [
       "<img src=https://pics.javbus.com/cover/6onc_b.jpg>"
      ],
      "text/plain": [
       "<IPython.core.display.HTML object>"
      ]
     },
     "metadata": {},
     "output_type": "display_data"
    },
    {
     "name": "stdout",
     "output_type": "stream",
     "text": [
      "\n",
      "\n",
      "\n",
      "===================================================================================================================\n",
      "###################################################################################################################\n",
      "===================================================================================================================\n"
     ]
    },
    {
     "data": {
      "text/html": [
       "<h1><a  href=\"https://www.javbus.com/SSNI-282\">SSNI-282</a>  <small><a  href=\"http://www.javlibrary.com/cn/vl_searchbyid.php?keyword=SSNI-282\">JavLibrary</a></small>"
      ],
      "text/plain": [
       "<IPython.core.display.HTML object>"
      ]
     },
     "metadata": {},
     "output_type": "display_data"
    },
    {
     "data": {
      "text/html": [
       "<big><a  href=\"localexplorer:g:/DELETED/SSNI-282_CAVI_FHD\">file://</a>g:/DELETED/SSNI-282_CAVI_FHD</big><br>['ssni-282.jpg']   0MB"
      ],
      "text/plain": [
       "<IPython.core.display.HTML object>"
      ]
     },
     "metadata": {},
     "output_type": "display_data"
    },
    {
     "name": "stdout",
     "output_type": "stream",
     "text": [
      "- - - - - - - - - - - - - - - - - - - - - - - - - \n"
     ]
    },
    {
     "data": {
      "text/html": [
       "<a  href=\"https://www.javbus.com/star/2xi\">葵つかさ</a>   <font color=\"red\">PLEASE CLASSIFY</font>"
      ],
      "text/plain": [
       "<IPython.core.display.HTML object>"
      ]
     },
     "metadata": {},
     "output_type": "display_data"
    },
    {
     "data": {
      "text/html": [
       "<img src=https://pics.javbus.com/cover/6omv_b.jpg>"
      ],
      "text/plain": [
       "<IPython.core.display.HTML object>"
      ]
     },
     "metadata": {},
     "output_type": "display_data"
    },
    {
     "name": "stdout",
     "output_type": "stream",
     "text": [
      "\n",
      "\n",
      "\n",
      "===================================================================================================================\n",
      "###################################################################################################################\n",
      "===================================================================================================================\n"
     ]
    },
    {
     "data": {
      "text/html": [
       "<h1><a  href=\"https://www.javbus.com/SSNI-283\">SSNI-283</a>  <small><a  href=\"http://www.javlibrary.com/cn/vl_searchbyid.php?keyword=SSNI-283\">JavLibrary</a></small>"
      ],
      "text/plain": [
       "<IPython.core.display.HTML object>"
      ]
     },
     "metadata": {},
     "output_type": "display_data"
    },
    {
     "data": {
      "text/html": [
       "<big><a  href=\"localexplorer:f:/Checked/SSNI-283_CAVI\">file://</a>f:/Checked/SSNI-283_CAVI</big><br>['ssni283.jpg', 'SSNI283_ch.mp4']   1389MB"
      ],
      "text/plain": [
       "<IPython.core.display.HTML object>"
      ]
     },
     "metadata": {},
     "output_type": "display_data"
    },
    {
     "name": "stdout",
     "output_type": "stream",
     "text": [
      "- - - - - - - - - - - - - - - - - - - - - - - - - \n"
     ]
    },
    {
     "data": {
      "text/html": [
       "<a  href=\"https://www.javbus.com/star/8ec\">夢乃あいか</a>   Private"
      ],
      "text/plain": [
       "<IPython.core.display.HTML object>"
      ]
     },
     "metadata": {},
     "output_type": "display_data"
    },
    {
     "data": {
      "text/html": [
       "<img src=https://pics.javbus.com/cover/6omq_b.jpg>"
      ],
      "text/plain": [
       "<IPython.core.display.HTML object>"
      ]
     },
     "metadata": {},
     "output_type": "display_data"
    },
    {
     "name": "stdout",
     "output_type": "stream",
     "text": [
      "\n",
      "\n",
      "\n",
      "===================================================================================================================\n",
      "###################################################################################################################\n",
      "===================================================================================================================\n"
     ]
    },
    {
     "data": {
      "text/html": [
       "<h1><a  href=\"https://www.javbus.com/SSNI-284\">SSNI-284</a>  <small><a  href=\"http://www.javlibrary.com/cn/vl_searchbyid.php?keyword=SSNI-284\">JavLibrary</a></small>"
      ],
      "text/plain": [
       "<IPython.core.display.HTML object>"
      ]
     },
     "metadata": {},
     "output_type": "display_data"
    },
    {
     "data": {
      "text/html": [
       "<big><a  href=\"localexplorer:g:/Collected/橋本ありな/SSNI-284_CAVI_FHD\">file://</a>g:/Collected/橋本ありな/SSNI-284_CAVI_FHD</big><br>['ssni-284.jpg', 'ssni-284CH1080P.mp4']   6579MB"
      ],
      "text/plain": [
       "<IPython.core.display.HTML object>"
      ]
     },
     "metadata": {},
     "output_type": "display_data"
    },
    {
     "name": "stdout",
     "output_type": "stream",
     "text": [
      "- - - - - - - - - - - - - - - - - - - - - - - - - \n"
     ]
    },
    {
     "data": {
      "text/html": [
       "<a  href=\"https://www.javbus.com/star/pmv\">橋本ありな</a>   Best<br>file://G:/Collected/橋本ありな"
      ],
      "text/plain": [
       "<IPython.core.display.HTML object>"
      ]
     },
     "metadata": {},
     "output_type": "display_data"
    },
    {
     "data": {
      "text/html": [
       "<img src=https://pics.javbus.com/cover/6omf_b.jpg>"
      ],
      "text/plain": [
       "<IPython.core.display.HTML object>"
      ]
     },
     "metadata": {},
     "output_type": "display_data"
    },
    {
     "name": "stdout",
     "output_type": "stream",
     "text": [
      "\n",
      "\n",
      "\n",
      "===================================================================================================================\n",
      "###################################################################################################################\n",
      "===================================================================================================================\n",
      "Press Enter to continue ...\n"
     ]
    }
   ],
   "source": [
    "try:\n",
    "    namelist=load_obj('namelist')\n",
    "\n",
    "    #需找演员的番号列表\n",
    "\n",
    "    drivelist=[]\n",
    "    drivelist.append(os.walk(r\"g:/renamed\"))\n",
    "    #drivelist.append(os.walk(r\"g:/BEST\"))\n",
    "    #drivelist.append(os.walk(r\"g:/Checked\"))\n",
    "    #drivelist.append(os.walk(r\"g:/Collected\"))\n",
    "    #drivelist.append(os.walk(r\"i:/Checked (Non Subbed)/\"))\n",
    "\n",
    "    codelist=getCodes(drivelist)\n",
    "\n",
    "    \n",
    "    pool = ThreadPool()\n",
    "    results=pool.map(completeinfo,codelist[:10])\n",
    "    \n",
    "    \n",
    "    f = open('renamedinfo.txt','w',encoding='utf-8')\n",
    "    for result in results:\n",
    "        #番号带链接\n",
    "        printHtml(['<h1>',\n",
    "                   linkFormat('https://www.javbus.com/'+result[0],result[0]),'  ',\n",
    "                   '<small>',linkFormat('http://www.javlibrary.com/cn/vl_searchbyid.php?keyword='+result[0],'JavLibrary'),'</small>'\n",
    "                   \n",
    "        ])\n",
    "        #已有文件位置\n",
    "        for folder in result[2]:\n",
    "            dirlink=r'localexplorer:'+folder[0].replace('\\\\','/')\n",
    "            printHtml([\n",
    "                '<big>',linkFormat(dirlink,'file://'),folder[0].replace('\\\\','/'),'</big>',\n",
    "                '<br>',str(os.listdir(folder[0])),'   ',\n",
    "                folder[1]\n",
    "                \n",
    "             ])\n",
    "        #女优信息\n",
    "        if (len(result[1])>0):\n",
    "            prt('- - - - - - - - - - - - - - - - - - - - - - - - - ')\n",
    "            for code,name in result[1]:\n",
    "                actressurl='https://www.javbus.com/star/'+code\n",
    "                isBest=0\n",
    "                \n",
    "                for collectedname in collectedlist:\n",
    "                    if collectedname.find(name)!=-1:\n",
    "                        isBest=1\n",
    "                        printHtml([linkFormat(actressurl,name),'   Best','<br>','file://G:/Collected/'+collectedname])\n",
    "                if isBest==0:\n",
    "                    text=''\n",
    "                    if name in privatelist:\n",
    "                        text='Private'\n",
    "                    elif name in sosolist:\n",
    "                        text='Soso'\n",
    "                    elif name in badlist:\n",
    "                        text='Bad'\n",
    "                    else:\n",
    "                        text=colorFormat('PLEASE CLASSIFY','red')\n",
    "                    printHtml([linkFormat(actressurl,name),'   ',text])\n",
    "        #封面\n",
    "        display(HTML('<img src='+result[3]+'>'))\n",
    "\n",
    "\n",
    "        prt('')\n",
    "        prt('')\n",
    "        prt('')\n",
    "        prt('===================================================================================================================')\n",
    "        prt('###################################################################################################################')\n",
    "        prt('===================================================================================================================')\n",
    "\n",
    "except BaseException:\n",
    "    import sys\n",
    "    print(sys.exc_info()[0])\n",
    "    import traceback\n",
    "    print(traceback.format_exc())\n",
    "finally:\n",
    "    print(\"Press Enter to continue ...\")\n",
    "    #input()"
   ]
  },
  {
   "cell_type": "markdown",
   "metadata": {},
   "source": [
    "# 找女优作品"
   ]
  },
  {
   "cell_type": "code",
   "execution_count": 101,
   "metadata": {},
   "outputs": [
    {
     "name": "stdout",
     "output_type": "stream",
     "text": [
      "Press Enter to continue ...\n"
     ]
    }
   ],
   "source": [
    "try:\n",
    "    namelist=load_obj('namelist')\n",
    "\n",
    "    #需找演员的番号列表\n",
    "\n",
    "    drivelist=[]\n",
    "    #drivelist.append(os.walk(r\"g:/renamed\"))\n",
    "    #drivelist.append(os.walk(r\"g:/BEST\"))\n",
    "    #drivelist.append(os.walk(r\"g:/Checked\"))\n",
    "    drivelist.append(os.walk(r\"g:/DELETED\"))\n",
    "    #drivelist.append(os.walk(r\"f:/Checked/\"))\n",
    "\n",
    "    codelist=getCodes(drivelist)\n",
    "\n",
    "    \n",
    "    pool = ThreadPool()\n",
    "    results=pool.map(completeinfo,codelist)\n",
    "    \n",
    "    \n",
    "        \n",
    "#         #番号带链接\n",
    "#         codeTitleHtml=r'<h2><a  href=\"'+'https://www.javbus.com/'+result[0]+'\">'+result[0] +'</a></h2>'\n",
    "#         javLibraryLink=r'<a  href=\"'+'http://www.javlibrary.com/cn/vl_searchbyid.php?keyword='+result[0]+'\">'+'JavLibrary' +'</a>'\n",
    "#         display(HTML(codeTitleHtml+javLibraryLink))\n",
    "#         #已有文件位置\n",
    "#         for folder in result[2]:\n",
    "#             prt(r'file://'+folder[0].replace('\\\\','/'))\n",
    "#             dirlink=r'localexplorer:'+folder[0].replace('\\\\','/')\n",
    "#             showAsLink(dirlink,str(os.listdir(folder[0]))+folder[1])\n",
    "#         #女优信息\n",
    "#         if (len(result[1])>0):\n",
    "#             prt('- - - - - - - - - - - - - - - - - - - - - - - - - ')\n",
    "#             for code,name in result[1]:\n",
    "#                 actressurl='https://www.javbus.com/star/'+code\n",
    "#                 isBest=0\n",
    "#                 tag=''\n",
    "#                 for collectedname in collectedlist:\n",
    "#                     if collectedname.find(name)!=-1:\n",
    "#                         isBest=1\n",
    "#                         tag='Best'\n",
    "#                         showAsLink(actressurl,name+' '+tag)\n",
    "#                         #display(HTML(r'<a  href=\"'+actressurl+'\">'+name+' '+tag+'</a>'))\n",
    "#                         prt('file://G:/Collected/'+collectedname)\n",
    "#                         #dirlink=r'<a  href=\"localexplorer:G:/Collected/'+collectedname+'\">'+name+'</a>'\n",
    "#                         #display(HTML(dirlink))\n",
    "#                 if isBest==0:\n",
    "#                     if name in privatelist:\n",
    "#                         tag='Private'\n",
    "#                     elif name in sosolist:\n",
    "#                         tag='Soso'\n",
    "#                     elif name in badlist:\n",
    "#                         tag='Bad'\n",
    "#                     else:\n",
    "#                         tag='PLEASE CLASSIFY'\n",
    "#                     showAsLink(actressurl,name+' '+tag)\n",
    "#         #封面\n",
    "#         display(HTML('<img src='+result[3]+'>'))\n",
    "\n",
    "\n",
    "#         prt('')\n",
    "#         prt('')\n",
    "#         prt('')\n",
    "#         prt('===================================================================================================================')\n",
    "#         prt('###################################################################################################################')\n",
    "#         prt('===================================================================================================================')\n",
    "\n",
    "except BaseException:\n",
    "    import sys\n",
    "    print(sys.exc_info()[0])\n",
    "    import traceback\n",
    "    print(traceback.format_exc())\n",
    "finally:\n",
    "    print(\"Press Enter to continue ...\")\n",
    "    #input()"
   ]
  },
  {
   "cell_type": "code",
   "execution_count": 103,
   "metadata": {},
   "outputs": [],
   "source": [
    "for result in results:\n",
    "        for code,name in result[1]:\n",
    "            if name=='篠田ゆう':\n",
    "                if len(result[1])==1:\n",
    "                    codeTitleHtml=r'<h2><a  href=\"'+'https://www.javbus.com/'+result[0]+'\">'+result[0] +'</a></h2>'\n",
    "                    javLibraryLink=r'<a  href=\"'+'http://www.javlibrary.com/cn/vl_searchbyid.php?keyword='+result[0]+'\">'+'JavLibrary' +'</a>'\n",
    "                    display(HTML(codeTitleHtml+javLibraryLink))\n",
    "                    display(HTML('<img src='+result[3]+'>'))\n",
    "                    path=result[2][0][0]\n",
    "                    dst=path.replace('DELETED','3')\n",
    "                    try:\n",
    "                        os.rename(path,dst)\n",
    "                    except:\n",
    "                        None\n",
    "                        \n"
   ]
  },
  {
   "cell_type": "code",
   "execution_count": 104,
   "metadata": {
    "scrolled": false
   },
   "outputs": [
    {
     "name": "stdout",
     "output_type": "stream",
     "text": [
      "[('2pv', '篠田ゆう'), ('2wr', '春原未来'), ('7hw', '夏目優希'), ('81j', '蓮実クレア'), ('83i', '松本メイ'), ('p2t', '牧村ひな')]\n"
     ]
    },
    {
     "data": {
      "text/html": [
       "<h2><a  href=\"https://www.javbus.com/LZPL-008\">LZPL-008</a></h2><a  href=\"http://www.javlibrary.com/cn/vl_searchbyid.php?keyword=LZPL-008\">JavLibrary</a>"
      ],
      "text/plain": [
       "<IPython.core.display.HTML object>"
      ]
     },
     "metadata": {},
     "output_type": "display_data"
    },
    {
     "name": "stdout",
     "output_type": "stream",
     "text": [
      "file://g:/DELETED/LZPL-008\n"
     ]
    },
    {
     "data": {
      "text/html": [
       "<a  href=\"localexplorer:g:/DELETED/LZPL-008\">['LZPL-008.jpg']0MB</a>"
      ],
      "text/plain": [
       "<IPython.core.display.HTML object>"
      ]
     },
     "metadata": {},
     "output_type": "display_data"
    },
    {
     "data": {
      "text/html": [
       "<img src=https://pics.javbus.com/cover/5a7g_b.jpg>"
      ],
      "text/plain": [
       "<IPython.core.display.HTML object>"
      ]
     },
     "metadata": {},
     "output_type": "display_data"
    },
    {
     "name": "stdout",
     "output_type": "stream",
     "text": [
      "===================================================================================================================\n",
      "[('lvc', '内村りな'), ('8xb', 'HIKARI'), ('6v9', '藤原ひとみ'), ('2yu', '朝倉ことみ'), ('2yf', '芹沢つむぎ'), ('2t4', 'AIKA'), ('2pv', '篠田ゆう'), ('2dq', '北川瞳'), ('2di', '友田彩也香')]\n"
     ]
    },
    {
     "data": {
      "text/html": [
       "<h2><a  href=\"https://www.javbus.com/MIRD-130\">MIRD-130</a></h2><a  href=\"http://www.javlibrary.com/cn/vl_searchbyid.php?keyword=MIRD-130\">JavLibrary</a>"
      ],
      "text/plain": [
       "<IPython.core.display.HTML object>"
      ]
     },
     "metadata": {},
     "output_type": "display_data"
    },
    {
     "name": "stdout",
     "output_type": "stream",
     "text": [
      "file://g:/DELETED/MIRD-130\n"
     ]
    },
    {
     "data": {
      "text/html": [
       "<a  href=\"localexplorer:g:/DELETED/MIRD-130\">[]0MB</a>"
      ],
      "text/plain": [
       "<IPython.core.display.HTML object>"
      ]
     },
     "metadata": {},
     "output_type": "display_data"
    },
    {
     "data": {
      "text/html": [
       "<img src=https://pics.javbus.com/cover/42p1_b.jpg>"
      ],
      "text/plain": [
       "<IPython.core.display.HTML object>"
      ]
     },
     "metadata": {},
     "output_type": "display_data"
    },
    {
     "name": "stdout",
     "output_type": "stream",
     "text": [
      "===================================================================================================================\n",
      "[('2pv', '篠田ゆう'), ('qn5', '佐々波綾'), ('7ve', '倉多まお'), ('p8y', '佐々木あき'), ('ozw', '若菜奈央'), ('mj2', '初川みなみ'), ('92l', '水野朝陽'), ('79q', '神咲詩織'), ('2de', 'JULIA'), ('2v4', '秋山祥子'), ('4xe', '冬月かえで'), ('1fw', 'つぼみ'), ('p84', '椎名そら'), ('pcm', '香椎りあ'), ('run', '桐谷なお'), ('rl1', '星奈あい'), ('rc0', '冴木エリカ'), ('reg', '美谷朱里'), ('rb4', '森川アンナ'), ('qvv', '河南実里'), ('q44', '栄川乃亜'), ('q02', '姫川ゆうな'), ('q1c', '二階堂ゆり'), ('q1z', '宮沢ゆかり'), ('ppk', '麻里梨夏'), ('s7u', '平沢すず')]\n"
     ]
    },
    {
     "data": {
      "text/html": [
       "<h2><a  href=\"https://www.javbus.com/MIZD-109\">MIZD-109</a></h2><a  href=\"http://www.javlibrary.com/cn/vl_searchbyid.php?keyword=MIZD-109\">JavLibrary</a>"
      ],
      "text/plain": [
       "<IPython.core.display.HTML object>"
      ]
     },
     "metadata": {},
     "output_type": "display_data"
    },
    {
     "data": {
      "text/html": [
       "<img src=https://pics.javbus.com/cover/6rmw_b.jpg>"
      ],
      "text/plain": [
       "<IPython.core.display.HTML object>"
      ]
     },
     "metadata": {},
     "output_type": "display_data"
    },
    {
     "name": "stdout",
     "output_type": "stream",
     "text": [
      "===================================================================================================================\n",
      "[('2t', '風間ゆみ'), ('p6', '川上ゆう（森野雫）'), ('2pv', '篠田ゆう'), ('7xb', '尾上若葉'), ('8y0', '卯水咲流'), ('cnw', '大場ゆい'), ('n0l', '篠田あゆみ'), ('nsy', '美咲かんな'), ('om5', '藤本紫媛'), ('p8y', '佐々木あき'), ('95f', '本田莉子'), ('nrq', '香山美桜'), ('na9', '松嶋葵'), ('n81', '鈴原エミリ'), ('m54', '林ゆな'), ('lz6', '佐々木恋海（向井恋）'), ('2m3', '大槻ひびき'), ('7ve', '倉多まお'), ('2wr', '春原未来'), ('i4k', '川菜美鈴'), ('hy6', '川村まや'), ('oxb', '北嶋あん'), ('q76', '彩奈リナ（七原あかり）'), ('81j', '蓮実クレア'), ('org', '江上しほ'), ('efh', '長谷川夏樹'), ('92l', '水野朝陽'), ('b9f', 'KAORI'), ('n58', '夏希みなみ'), ('7ry', '神ユキ')]\n"
     ]
    },
    {
     "data": {
      "text/html": [
       "<h2><a  href=\"https://www.javbus.com/TOMN-108\">TOMN-108</a></h2><a  href=\"http://www.javlibrary.com/cn/vl_searchbyid.php?keyword=TOMN-108\">JavLibrary</a>"
      ],
      "text/plain": [
       "<IPython.core.display.HTML object>"
      ]
     },
     "metadata": {},
     "output_type": "display_data"
    },
    {
     "name": "stdout",
     "output_type": "stream",
     "text": [
      "file://g:/DELETED/TOMN-108\n"
     ]
    },
    {
     "data": {
      "text/html": [
       "<a  href=\"localexplorer:g:/DELETED/TOMN-108\">[]0MB</a>"
      ],
      "text/plain": [
       "<IPython.core.display.HTML object>"
      ]
     },
     "metadata": {},
     "output_type": "display_data"
    },
    {
     "data": {
      "text/html": [
       "<img src=https://pics.javbus.com/cover/65sw_b.jpg>"
      ],
      "text/plain": [
       "<IPython.core.display.HTML object>"
      ]
     },
     "metadata": {},
     "output_type": "display_data"
    },
    {
     "name": "stdout",
     "output_type": "stream",
     "text": [
      "===================================================================================================================\n",
      "[('2pv', '篠田ゆう'), ('2ud', '真木今日子'), ('7et', 'あすか光希'), ('933', '夢咲りぼん'), ('93p', '椎名まりな'), ('944', '水希杏'), ('mb7', 'あゆみ翼'), ('mg9', '青葉優香'), ('nif', '御舟みこと'), ('o4r', '原波瑠（原羽瑠）'), ('85q', '彩城ゆりな'), ('91c', '椿かなり')]\n"
     ]
    },
    {
     "data": {
      "text/html": [
       "<h2><a  href=\"https://www.javbus.com/ZUKO-077\">ZUKO-077</a></h2><a  href=\"http://www.javlibrary.com/cn/vl_searchbyid.php?keyword=ZUKO-077\">JavLibrary</a>"
      ],
      "text/plain": [
       "<IPython.core.display.HTML object>"
      ]
     },
     "metadata": {},
     "output_type": "display_data"
    },
    {
     "name": "stdout",
     "output_type": "stream",
     "text": [
      "file://g:/DELETED/ZUKO-077_CAVI\n"
     ]
    },
    {
     "data": {
      "text/html": [
       "<a  href=\"localexplorer:g:/DELETED/ZUKO-077_CAVI\">[]0MB</a>"
      ],
      "text/plain": [
       "<IPython.core.display.HTML object>"
      ]
     },
     "metadata": {},
     "output_type": "display_data"
    },
    {
     "data": {
      "text/html": [
       "<img src=https://pics.javbus.com/cover/4r0k_b.jpg>"
      ],
      "text/plain": [
       "<IPython.core.display.HTML object>"
      ]
     },
     "metadata": {},
     "output_type": "display_data"
    },
    {
     "name": "stdout",
     "output_type": "stream",
     "text": [
      "===================================================================================================================\n"
     ]
    }
   ],
   "source": [
    "for result in results:\n",
    "        for code,name in result[1]:\n",
    "             if name=='篠田ゆう':\n",
    "#                 if len(result[1])==1:\n",
    "#                     path=result[2][0][0]\n",
    "#                     dst=path.replace('Checked','3')\n",
    "#                     try:\n",
    "#                         os.rename(path,dst)\n",
    "#                     except:\n",
    "#                         None\n",
    "                try:\n",
    "                    print(result[1])\n",
    "                    #番号带链接\n",
    "                    codeTitleHtml=r'<h2><a  href=\"'+'https://www.javbus.com/'+result[0]+'\">'+result[0] +'</a></h2>'\n",
    "                    javLibraryLink=r'<a  href=\"'+'http://www.javlibrary.com/cn/vl_searchbyid.php?keyword='+result[0]+'\">'+'JavLibrary' +'</a>'\n",
    "                    display(HTML(codeTitleHtml+javLibraryLink))\n",
    "                    #已有文件位置\n",
    "                    for folder in result[2]:\n",
    "                        prt(r'file://'+folder[0].replace('\\\\','/'))\n",
    "                        dirlink=r'localexplorer:'+folder[0].replace('\\\\','/')\n",
    "                        showAsLink(dirlink,str(os.listdir(folder[0]))+folder[1])\n",
    "                    display(HTML('<img src='+result[3]+'>'))\n",
    "                    prt('===================================================================================================================')\n",
    "                except:\n",
    "                    None"
   ]
  },
  {
   "cell_type": "markdown",
   "metadata": {},
   "source": [
    "# 种子筛选"
   ]
  },
  {
   "cell_type": "code",
   "execution_count": 303,
   "metadata": {
    "scrolled": false
   },
   "outputs": [
    {
     "name": "stdout",
     "output_type": "stream",
     "text": [
      "Press Enter to continue ...\n"
     ]
    }
   ],
   "source": [
    "try:\n",
    "    namelist=load_obj('namelist')\n",
    "\n",
    "    #需找演员的番号列表\n",
    "\n",
    "    drivelist=[]\n",
    "    drivelist.append(os.walk(r\"g:/sis\"))\n",
    "    #drivelist.append(os.walk(r\"g:/BEST\"))\n",
    "    #drivelist.append(os.walk(r\"g:/Checked\"))\n",
    "    #drivelist.append(os.walk(r\"g:/Collected\"))\n",
    "\n",
    "    #drivelist.append(os.walk(r\"i:/Checked (Non Subbed)/\"))\n",
    "\n",
    "    codelist=[]\n",
    "    for g in drivelist:\n",
    "        for path,dir_list,file_list in g:  \n",
    "            for dir_name in dir_list:\n",
    "                index_=dir_name.find('-')\n",
    "                if (index_!=-1) and (index_<len(dir_name)-1):\n",
    "                    indexnum=index_+1\n",
    "                    while (dir_name[indexnum].isdigit()) and (indexnum<len(dir_name)):\n",
    "                        indexnum+=1\n",
    "                        if indexnum==len(dir_name):\n",
    "                            break\n",
    "                    code=dir_name[:indexnum]\n",
    "                    codelist.append(code)\n",
    "    codelist.sort()\n",
    "\n",
    "    pool = ThreadPool()\n",
    "    results=pool.map(completeinfo,codelist)\n",
    "    f = open('renamedinfo.txt','w',encoding='utf-8')\n",
    "\n",
    "\n",
    "except BaseException:\n",
    "    import sys\n",
    "    print(sys.exc_info()[0])\n",
    "    import traceback\n",
    "    print(traceback.format_exc())\n",
    "finally:\n",
    "    \n",
    "    print(\"Press Enter to continue ...\")\n",
    "    #input()"
   ]
  },
  {
   "cell_type": "code",
   "execution_count": null,
   "metadata": {},
   "outputs": [],
   "source": [
    "for result in results:\n",
    "    if len(result[2])>0:\n",
    "        display(HTML(r'<a  href=\"'+'https://www.javbus.com/'+result[0]+'\">'+result[0] +'</a>'))\n",
    "        prt('JavLibrary for more info:')\n",
    "        prt(r'http://www.javlibrary.com/cn/vl_searchbyid.php?keyword='+result[0])\n",
    "        display(HTML('<img src='+result[3]+'>'))\n",
    "        for folder in result[2]:\n",
    "            prt(r'file://'+folder[0].replace('\\\\','/'))\n",
    "            prt(os.listdir(folder[0]))\n",
    "            dirlink=r'localexplorer:'+folder[0].replace('\\\\','/')\n",
    "            dirlink=r'<a  href=\"'+dirlink+'\">'+folder[0] +'</a>'\n",
    "            display(HTML(dirlink))\n",
    "        if (len(result[1])>0):\n",
    "            prt('- - - - - - - - - - - - - - - - - - - - - - - - - ')\n",
    "            for code,name in result[1]:\n",
    "                prt(name)\n",
    "                actressurl='https://www.javbus.com/star/'+code\n",
    "                for collectedname in collectedlist:\n",
    "                    if collectedname.find(name)!=-1:\n",
    "                        prt('file://G:/Collected/'+collectedname)\n",
    "                        #dirlink=r'<a  href=\"localexplorer:G:/Collected/'+collectedname+'\">'+name+'</a>'\n",
    "                        #display(HTML(dirlink))\n",
    "                if name in privatelist:\n",
    "                    display(HTML(r'<a  href=\"'+actressurl+'\">'+'PRIVATE'+'</a>'))\n",
    "                elif name in sosolist:\n",
    "                    display(HTML(r'<a  href=\"'+actressurl+'\">'+'SOSO'+'</a>'))\n",
    "                elif name in badlist:\n",
    "                    display(HTML(r'<a  href=\"'+actressurl+'\">'+'BAD'+'</a>'))\n",
    "                else:\n",
    "                    display(HTML(r'<a  href=\"'+actressurl+'\">'+'PLEASE CLASSIFY'+'</a>'))\n",
    "\n",
    "\n",
    "        prt('-------------------------------------------------------------------------')"
   ]
  },
  {
   "cell_type": "code",
   "execution_count": null,
   "metadata": {},
   "outputs": [],
   "source": [
    "namelist=load_obj('namelist')\n",
    "\n",
    "for x in namelist:\n",
    "    print(x)"
   ]
  },
  {
   "cell_type": "markdown",
   "metadata": {},
   "source": [
    "# Collected文件夹校验"
   ]
  },
  {
   "cell_type": "code",
   "execution_count": 24,
   "metadata": {
    "scrolled": true
   },
   "outputs": [
    {
     "name": "stdout",
     "output_type": "stream",
     "text": [
      "------------------------------------------\n",
      "AIKA\n",
      "------------------------------------------\n",
      "JULIA\n",
      "------------------------------------------\n",
      "NAOMI\n",
      "------------------------------------------\n",
      "RION（宇都宮しをん）\n",
      "------------------------------------------\n",
      "sex_friend\n",
      "------------------------------------------\n",
      "あおいれな（葵玲奈）\n",
      "------------------------------------------\n",
      "あべみかこ（安部未华子）\n",
      "------------------------------------------\n",
      "あやみ旬果\n",
      "------------------------------------------\n",
      "さくらゆら（樱由罗）\n",
      "------------------------------------------\n",
      "ちとせりこ_母乳\n",
      "------------------------------------------\n",
      "ななせ麻衣（菅野紗世）（南田みさき）\n",
      "------------------------------------------\n",
      "ほしの景子\n",
      "------------------------------------------\n",
      "七沢みあ\n",
      "------------------------------------------\n",
      "七瀬ルナ\n",
      "------------------------------------------\n",
      "三上悠亜\n",
      "------------------------------------------\n",
      "三田杏\n",
      "------------------------------------------\n",
      "上原瑞穂\n",
      "------------------------------------------\n",
      "並木優\n",
      "------------------------------------------\n",
      "乙都さきの\n",
      "------------------------------------------\n",
      "九重かんな\n",
      "------------------------------------------\n",
      "二宮和香（能美ちなつ）\n",
      "------------------------------------------\n",
      "五十嵐星蘭\n",
      "------------------------------------------\n",
      "井上みづき\n",
      "------------------------------------------\n",
      "仲西なつき_母乳\n",
      "------------------------------------------\n",
      "伊東ちなみ\n",
      "------------------------------------------\n",
      "冬月かえで\n",
      "------------------------------------------\n",
      "凰かなめ\n",
      "------------------------------------------\n",
      "初川みなみ\n",
      "------------------------------------------\n",
      "初芽里奈\n",
      "------------------------------------------\n",
      "加藤ほのか\n",
      "------------------------------------------\n",
      "北嶋ゆい\n",
      "------------------------------------------\n",
      "北野のぞみ\n",
      "------------------------------------------\n",
      "双葉良香\n",
      "------------------------------------------\n",
      "古川いおり\n",
      "------------------------------------------\n",
      "吉川蓮\n",
      "------------------------------------------\n",
      "吉高寧々\n",
      "------------------------------------------\n",
      "園田みおん\n",
      "------------------------------------------\n",
      "土屋あさみ\n",
      "------------------------------------------\n",
      "坂咲みほ\n",
      "------------------------------------------\n",
      "夏目彩春\n",
      "------------------------------------------\n",
      "大橋未久\n",
      "------------------------------------------\n",
      "天使もえ\n",
      "------------------------------------------\n",
      "宇佐美まい\n",
      "------------------------------------------\n",
      "宮内栞_萝莉\n",
      "\n",
      "MUM-147\n",
      "[('nd0', 'なごみ')]\n",
      "[]\n",
      "https://pics.javbus.com/cover/4mbx_b.jpg\n",
      "------------------------------------------\n",
      "宮咲りのん\n",
      "------------------------------------------\n",
      "小倉ゆず\n",
      "------------------------------------------\n",
      "小島みなみ\n",
      "------------------------------------------\n",
      "岸田歩美\n",
      "------------------------------------------\n",
      "川相美月\n",
      "------------------------------------------\n",
      "市川まさみ\n",
      "------------------------------------------\n",
      "希島あいり\n",
      "------------------------------------------\n",
      "希志あいの\n",
      "------------------------------------------\n",
      "希美まゆ\n",
      "------------------------------------------\n",
      "幸田ユマ\n",
      "------------------------------------------\n",
      "庵野杏\n",
      "------------------------------------------\n",
      "彩奈つばさ\n",
      "------------------------------------------\n",
      "悠木美雪\n",
      "------------------------------------------\n",
      "愛世くらら\n",
      "------------------------------------------\n",
      "新美もも_母乳\n",
      "------------------------------------------\n",
      "明日美さき\n",
      "------------------------------------------\n",
      "明日花キララ\n",
      "------------------------------------------\n",
      "明里つむぎ\n",
      "------------------------------------------\n",
      "星名愛美\n",
      "------------------------------------------\n",
      "星咲セイラ\n",
      "------------------------------------------\n",
      "星奈あい\n",
      "------------------------------------------\n",
      "星川なつ\n",
      "------------------------------------------\n",
      "春咲りょう\n",
      "------------------------------------------\n",
      "月島遥花\n",
      "------------------------------------------\n",
      "有坂深雪\n",
      "------------------------------------------\n",
      "有村千佳\n",
      "------------------------------------------\n",
      "東凛\n",
      "------------------------------------------\n",
      "板野ユイカ\n",
      "------------------------------------------\n",
      "板野有紀\n",
      "------------------------------------------\n",
      "林ゆな（林由奈）\n",
      "------------------------------------------\n",
      "架乃ゆら\n",
      "------------------------------------------\n",
      "柚月ひまわり\n",
      "------------------------------------------\n",
      "栗衣みい\n",
      "------------------------------------------\n",
      "桃乃木かな\n",
      "------------------------------------------\n",
      "桃谷エリカ（桃谷绘里香）\n",
      "\n",
      "ZEX-201\n",
      "[('mcf', 'りりか')]\n",
      "[]\n",
      "https://pics.javbus.com/cover/42xj_b.jpg\n",
      "------------------------------------------\n",
      "桜空もも\n",
      "------------------------------------------\n",
      "森川ひな\n",
      "------------------------------------------\n",
      "森永久留美_母乳\n",
      "------------------------------------------\n",
      "森沢かな（飯岡かなこ）\n",
      "------------------------------------------\n",
      "椎名そら\n",
      "------------------------------------------\n",
      "横山美雪\n",
      "------------------------------------------\n",
      "橋本ありな\n",
      "------------------------------------------\n",
      "水卜さくら\n",
      "------------------------------------------\n",
      "永嶋輝子\n",
      "------------------------------------------\n",
      "汐音まり\n",
      "------------------------------------------\n",
      "河北彩花\n",
      "------------------------------------------\n",
      "河南実里\n",
      "------------------------------------------\n",
      "泷泽萝拉（水咲ローラ）\n",
      "\n",
      "ABP-031\n",
      "[('82w', '水咲ローラ（滝澤ローラ）')]\n",
      "[]\n",
      "https://pics.javbus.com/cover/2ta6_b.jpg\n",
      "\n",
      "ABP-041\n",
      "[('82w', '水咲ローラ（滝澤ローラ）')]\n",
      "[]\n",
      "https://pics.javbus.com/cover/3x6b_b.jpg\n",
      "\n",
      "IDBD-577\n",
      "[('82w', '水咲ローラ（滝澤ローラ）')]\n",
      "[]\n",
      "https://pics.javbus.com/cover/4hvc_b.jpg\n",
      "\n",
      "IPZ-405\n",
      "[('82w', '水咲ローラ（滝澤ローラ）')]\n",
      "[]\n",
      "https://pics.javbus.com/cover/4as2_b.jpg\n",
      "\n",
      "MAS-087\n",
      "[('82w', '水咲ローラ（滝澤ローラ）')]\n",
      "[]\n",
      "https://pics.javbus.com/cover/1v0n_b.jpg\n",
      "------------------------------------------\n",
      "浜野友香\n",
      "\n",
      "KDKJ-057\n",
      "[('ipm', 'あんず')]\n",
      "[]\n",
      "https://pics.javbus.com/cover/69bk_b.jpg\n",
      "\n",
      "KTRA-023\n",
      "[('s2k', '浜野友夏')]\n",
      "[]\n",
      "https://pics.javbus.com/cover/6kak_b.jpg\n",
      "------------------------------------------\n",
      "瀬名きらり\n",
      "------------------------------------------\n",
      "瀬野みやび\n",
      "------------------------------------------\n",
      "瑠川リナ\n",
      "------------------------------------------\n",
      "白百合ましろ\n",
      "------------------------------------------\n",
      "白石みなみ\n",
      "------------------------------------------\n",
      "相沢さつき\n",
      "------------------------------------------\n",
      "相沢みなみ（相泽南）\n",
      "------------------------------------------\n",
      "真田春香\n",
      "------------------------------------------\n",
      "石原莉奈\n",
      "------------------------------------------\n",
      "神田るみ\n",
      "------------------------------------------\n",
      "立花はるみ\n",
      "------------------------------------------\n",
      "竹内乃愛\n",
      "------------------------------------------\n",
      "竹田ゆめ\n",
      "------------------------------------------\n",
      "笹川りほ\n",
      "------------------------------------------\n",
      "結まきな\n",
      "------------------------------------------\n",
      "絵色千佳\n",
      "------------------------------------------\n",
      "美谷朱里\n",
      "------------------------------------------\n",
      "美雪ありす\n",
      "------------------------------------------\n",
      "翼\n",
      "------------------------------------------\n",
      "胡桃たえ\n",
      "\n",
      "FSTA-023\n",
      "[('sx5', '藤田えり')]\n",
      "[]\n",
      "https://pics.javbus.com/cover/6mtt_b.jpg\n",
      "------------------------------------------\n",
      "花咲はな\n",
      "------------------------------------------\n",
      "芽森しずく（宝生リリー）\n",
      "\n",
      "ABP-100\n",
      "[('mft', '朝日奈るみな（芽森しずく）')]\n",
      "[]\n",
      "https://pics.javbus.com/cover/455p_b.jpg\n",
      "\n",
      "ABP-115\n",
      "[('mft', '朝日奈るみな（芽森しずく）')]\n",
      "[]\n",
      "https://pics.javbus.com/cover/4665_b.jpg\n",
      "\n",
      "ABP-135\n",
      "[('mft', '朝日奈るみな（芽森しずく）')]\n",
      "[]\n",
      "https://pics.javbus.com/cover/486t_b.jpg\n",
      "\n",
      "ABP-146\n",
      "[('mft', '朝日奈るみな（芽森しずく）')]\n",
      "[]\n",
      "https://pics.javbus.com/cover/49v7_b.jpg\n",
      "\n",
      "ABP-161\n",
      "[('mft', '朝日奈るみな（芽森しずく）')]\n",
      "[]\n",
      "https://pics.javbus.com/cover/4ble_b.jpg\n",
      "\n",
      "ABP-172\n",
      "[('mft', '朝日奈るみな（芽森しずく）')]\n",
      "[]\n",
      "https://pics.javbus.com/cover/4d1r_b.jpg\n",
      "\n",
      "ABP-196\n",
      "[('mft', '朝日奈るみな（芽森しずく）')]\n",
      "[]\n",
      "https://pics.javbus.com/cover/4g6v_b.jpg\n",
      "\n",
      "ABP-204\n",
      "[('mft', '朝日奈るみな（芽森しずく）')]\n",
      "[]\n",
      "https://pics.javbus.com/cover/4gw7_b.jpg\n",
      "\n",
      "ABP-223\n",
      "[('mft', '朝日奈るみな（芽森しずく）')]\n",
      "[]\n",
      "https://pics.javbus.com/cover/4j50_b.jpg\n",
      "\n",
      "ABP-234\n",
      "[('mft', '朝日奈るみな（芽森しずく）')]\n",
      "[]\n",
      "https://pics.javbus.com/cover/4kyv_b.jpg\n",
      "\n",
      "ABP-242\n",
      "[('mft', '朝日奈るみな（芽森しずく）')]\n",
      "[]\n",
      "https://pics.javbus.com/cover/4lrk_b.jpg\n",
      "\n",
      "ABP-257\n",
      "[('mft', '朝日奈るみな（芽森しずく）')]\n",
      "[]\n",
      "https://pics.javbus.com/cover/4nb0_b.jpg\n",
      "\n",
      "ORBK-002\n",
      "[('mft', '朝日奈るみな（芽森しずく）')]\n",
      "[]\n",
      "https://pics.javbus.com/cover/5l7h_b.jpg\n",
      "\n",
      "PGD-774\n",
      "[('mft', '朝日奈るみな（芽森しずく）')]\n",
      "[]\n",
      "https://pics.javbus.com/cover/4r74_b.jpg\n",
      "\n",
      "PGD-783\n",
      "[('mft', '朝日奈るみな（芽森しずく）')]\n",
      "[]\n",
      "https://pics.javbus.com/cover/4ss1_b.jpg\n",
      "\n",
      "PGD-794\n",
      "[('mft', '朝日奈るみな（芽森しずく）')]\n",
      "[]\n",
      "https://pics.javbus.com/cover/4ue5_b.jpg\n",
      "\n",
      "PGD-811\n",
      "[('mft', '朝日奈るみな（芽森しずく）')]\n",
      "[]\n",
      "https://pics.javbus.com/cover/4xq8_b.jpg\n",
      "\n",
      "PPT-020\n",
      "[('mft', '朝日奈るみな（芽森しずく）')]\n",
      "[]\n",
      "https://pics.javbus.com/cover/4q40_b.jpg\n",
      "\n",
      "RBD-775\n",
      "[('mft', '朝日奈るみな（芽森しずく）')]\n",
      "[]\n",
      "https://pics.javbus.com/cover/5i1u_b.jpg\n",
      "\n",
      "SHKD-660\n",
      "[('mft', '朝日奈るみな（芽森しずく）')]\n",
      "[]\n",
      "https://pics.javbus.com/cover/59hd_b.jpg\n",
      "\n",
      "SHKD-665\n",
      "[('mft', '朝日奈るみな（芽森しずく）')]\n",
      "[]\n",
      "https://pics.javbus.com/cover/5bcc_b.jpg\n",
      "\n",
      "SHKD-675\n",
      "[('mft', '朝日奈るみな（芽森しずく）')]\n",
      "[]\n",
      "https://pics.javbus.com/cover/5css_b.jpg\n",
      "\n",
      "SHKD-682\n",
      "[('mft', '朝日奈るみな（芽森しずく）')]\n",
      "[]\n",
      "https://pics.javbus.com/cover/5ecs_b.jpg\n",
      "\n",
      "SHKD-690\n",
      "[('mft', '朝日奈るみな（芽森しずく）')]\n",
      "[]\n",
      "https://pics.javbus.com/cover/5g49_b.jpg\n",
      "------------------------------------------\n",
      "茉莉ひな（宮益ことは）\n"
     ]
    },
    {
     "name": "stdout",
     "output_type": "stream",
     "text": [
      "------------------------------------------\n",
      "蒼星ユリ\n",
      "------------------------------------------\n",
      "藤川れいな\n",
      "------------------------------------------\n",
      "西内るな\n",
      "------------------------------------------\n",
      "西宮ゆめ\n",
      "------------------------------------------\n",
      "西田カリナ\n",
      "------------------------------------------\n",
      "谷田部和沙\n",
      "------------------------------------------\n",
      "跡美しゅり\n",
      "\n",
      "WANZ-280\n",
      "[('m09', '裕木まゆ'), ('1fw', 'つぼみ')]\n",
      "[]\n",
      "https://pics.javbus.com/cover/4l21_b.jpg\n",
      "\n",
      "MUM-216\n",
      "[('pcx', '森星いまり'), ('pne', '琴沖華凛')]\n",
      "[]\n",
      "https://pics.javbus.com/cover/5ck0_b.jpg\n",
      "------------------------------------------\n",
      "輝月あんり\n",
      "------------------------------------------\n",
      "辻本杏\n",
      "------------------------------------------\n",
      "金澤セレナ\n",
      "------------------------------------------\n",
      "鈴村あいり\n",
      "------------------------------------------\n",
      "長瀬麻美\n",
      "------------------------------------------\n",
      "長谷川るい\n",
      "------------------------------------------\n",
      "長谷川リホ_早期\n",
      "------------------------------------------\n",
      "関根奈美\n",
      "------------------------------------------\n",
      "青井いちご\n",
      "\n",
      "BUR-427\n",
      "[('ilh', 'のぞみ'), ('8tr', '平野あおい'), ('8f4', '北原えれな')]\n",
      "[]\n",
      "https://pics.javbus.com/cover/4bbk_b.jpg\n",
      "------------------------------------------\n",
      "音あずさ\n",
      "------------------------------------------\n",
      "风见あゆむ\n",
      "------------------------------------------\n",
      "风见あゆむ_苗条\n",
      "------------------------------------------\n",
      "香苗レノン\n",
      "------------------------------------------\n",
      "高井ルナ\n",
      "------------------------------------------\n",
      "高嶋ゆいか\n",
      "------------------------------------------\n",
      "高橋しょう子\n",
      "------------------------------------------\n",
      "黒川すみれ（稲川なつめ）\n"
     ]
    }
   ],
   "source": [
    "drivelist=[]\n",
    "\n",
    "root=r\"g:/Collected\"\n",
    "for dir_name in next( os.walk(root) )[1]:\n",
    "    drivelist.append(dir_name)\n",
    "\n",
    "for actressname in drivelist:\n",
    "    print('------------------------------------------')\n",
    "    print(actressname)\n",
    "    path=os.path.join(root, actressname)\n",
    "    g=os.walk(path)\n",
    "    codelist=[]\n",
    "    for path,dir_list,file_list in g:  \n",
    "        \n",
    "        for dir_name in dir_list:\n",
    "            index_=dir_name.find('-')\n",
    "            if (index_!=-1) and (index_<len(dir_name)-1):\n",
    "                indexnum=index_+1\n",
    "                while (dir_name[indexnum].isdigit()) and (indexnum<len(dir_name)):\n",
    "                    indexnum+=1\n",
    "                    if indexnum==len(dir_name):\n",
    "                        break\n",
    "                code=dir_name[:indexnum]\n",
    "\n",
    "                codelist.append(code)\n",
    "\n",
    "    codelist.sort()\n",
    "\n",
    "    pool = ThreadPool()\n",
    "    results=pool.map(completeinfo,codelist)\n",
    "    results.sort(key=sortFunc)\n",
    "    for result in results:\n",
    "        correct=0\n",
    "        if len(result[1])==0:\n",
    "            correct=1\n",
    "        if len(result[1])==1:\n",
    "            if actressname.find(result[1][0][1])!=-1:\n",
    "                correct=1\n",
    "        if len(result[1])>1:\n",
    "            for code,name in result[1]:\n",
    "                if name.find('（')!=-1:\n",
    "                    name=name[:name.find('（')]\n",
    "                if actressname.find(name)!=-1:\n",
    "                    correct=1\n",
    "                    break\n",
    "        if correct==0:\n",
    "            print()\n",
    "            for line in result:\n",
    "                print(line)"
   ]
  },
  {
   "cell_type": "markdown",
   "metadata": {},
   "source": [
    "# 自动归类"
   ]
  },
  {
   "cell_type": "raw",
   "metadata": {
    "scrolled": false
   },
   "source": [
    "try:\n",
    "    namelist=load_obj('namelist')\n",
    "\n",
    "    #需找演员的番号列表\n",
    "\n",
    "    drivelist=[]\n",
    "    drivelist.append(os.walk(r\"g:/Checked\"))\n",
    "    #drivelist.append(os.walk(r\"g:/BEST\"))\n",
    "    #drivelist.append(os.walk(r\"g:/Checked\"))\n",
    "    #drivelist.append(os.walk(r\"g:/Collected\"))\n",
    "\n",
    "    #drivelist.append(os.walk(r\"i:/Checked (Non Subbed)/\"))\n",
    "\n",
    "    codelist=[]\n",
    "    for g in drivelist:\n",
    "        for path,dir_list,file_list in g:  \n",
    "            for dir_name in dir_list:\n",
    "                index_=dir_name.find('-')\n",
    "                if (index_!=-1) and (index_<len(dir_name)-1):\n",
    "                    indexnum=index_+1\n",
    "                    while (dir_name[indexnum].isdigit()) and (indexnum<len(dir_name)):\n",
    "                        indexnum+=1\n",
    "                        if indexnum==len(dir_name):\n",
    "                            break\n",
    "                    code=dir_name[:indexnum]\n",
    "                    codelist.append(code)\n",
    "    codelist.sort()\n",
    "\n",
    "    pool = ThreadPool()\n",
    "    results=pool.map(completeinfo,codelist)\n",
    "    f = open('renamedinfo.txt','w',encoding='utf-8')\n",
    "    for result in results:\n",
    "        prt(result[0])\n",
    "        for folder in result[2]:\n",
    "            prt(r'file://'+folder[0].replace('\\\\','/'))\n",
    "            prt(folder[1])\n",
    "        prt(' ')\n",
    "        if (len(result[1])>0):\n",
    "            prt(result[1])\n",
    "            for code,name in result[1]:\n",
    "                for collectedname in collectedlist:\n",
    "                    if collectedname.find(name)!=-1:\n",
    "                        prt('file://G:/Collected/'+collectedname)\n",
    "                if name in privatelist:\n",
    "                    prt(name+' PRIVATE')\n",
    "                if name in sosolist:\n",
    "                    prt(name+' SOSO')\n",
    "                if name in badlist:\n",
    "                    prt(name+' BAD')\n",
    "        else:\n",
    "            prt('Can/t find actress on JavBus. Try:')\n",
    "            prt(r'http://www.javlibrary.com/cn/vl_searchbyid.php?keyword='+result[0])\n",
    "\n",
    "        prt('-------------------------------------------------------------------------')\n",
    "\n",
    "except BaseException:\n",
    "    import sys\n",
    "    print(sys.exc_info()[0])\n",
    "    import traceback\n",
    "    print(traceback.format_exc())\n",
    "finally:\n",
    "    \n",
    "    print(\"Press Enter to continue ...\")\n",
    "    #input()"
   ]
  },
  {
   "cell_type": "markdown",
   "metadata": {},
   "source": [
    "# 杂项"
   ]
  },
  {
   "cell_type": "raw",
   "metadata": {
    "scrolled": true
   },
   "source": [
    "for result in results:\n",
    "    if (len(result[1])==1):\n",
    "        for name in result[1]:\n",
    "            for collectedname in collectedlist:\n",
    "                if collectedname.find(name)!=-1:\n",
    "                    prt(result[0])\n",
    "                    path=result[2][0][0].replace('\\\\','/')\n",
    "                    prt(path)\n",
    "                    dst=path.replace('Checked','Collected/'+collectedname)\n",
    "                    prt(dst)\n",
    "                    os.rename(path,dst)\n",
    "                    #prt('file://G:/Collected/'+collectedname)\n",
    "                    prt('-------------------------------------------------------------------------')\n"
   ]
  },
  {
   "cell_type": "raw",
   "metadata": {},
   "source": [
    "tosearch=[]\n",
    "for i in range(1,160):\n",
    "    num=\"%03d\" % i\n",
    "    code='CJOD-'+num\n",
    "    sub=0\n",
    "    for line in namelist:\n",
    "        if line[0]==code and line[1][0].find('CAVI')!=-1:\n",
    "            print(line)\n",
    "            sub=1\n",
    "            break\n",
    "    if sub==0:\n",
    "        tosearch.append(['CJOD',num])\n",
    "\n",
    "for x in tosearch:\n",
    "    findmag(x)\n",
    "    \n"
   ]
  },
  {
   "cell_type": "raw",
   "metadata": {
    "scrolled": true
   },
   "source": [
    "tosearchlist=load_obj('tosearchlist')\n",
    "pool = ThreadPool()\n",
    "subresults=pool.map(findmagpure,tosearchlist)"
   ]
  },
  {
   "cell_type": "raw",
   "metadata": {
    "scrolled": true
   },
   "source": [
    "maglist=[]\n",
    "for result in subresults:\n",
    "    for line in result:\n",
    "        maglist.append(line)\n",
    "        print(line)"
   ]
  },
  {
   "cell_type": "raw",
   "metadata": {
    "scrolled": true
   },
   "source": [
    "for line in maglist[300:]:\n",
    "    print(line)"
   ]
  },
  {
   "cell_type": "raw",
   "metadata": {},
   "source": [
    "results"
   ]
  },
  {
   "cell_type": "raw",
   "metadata": {},
   "source": [
    "from IPython.display import Image\n",
    "from IPython.core.display import HTML \n",
    "#Image(url= \"https://pics.javbus.com/cover/6ljp_b.jpg\")"
   ]
  },
  {
   "cell_type": "raw",
   "metadata": {},
   "source": [
    "from IPython.core.display import display, HTML\n",
    "code='HODV-21327'\n",
    "url = 'https://www.javbus.com/'+code\n",
    "\n",
    "web = requests.get(url, headers=headers)\n",
    "web.encoding = 'utl-8'\n",
    "\n",
    "Page = web.text\n",
    "#<div class=\"star-name\"><a href=\"https://www.javbus.com/star/2xi\" title=\"葵つかさ\">葵つかさ</a></div>\n",
    "\n",
    "actresslist=re.findall(r'<div class=\"container\">.*?<div id=\"star-div\">', Page,re.S)\n"
   ]
  },
  {
   "cell_type": "raw",
   "metadata": {},
   "source": [
    "result=results[0]\n",
    "result[3]\n",
    "print('sss')\n",
    "Image(url=result[3])\n",
    "print('sss')"
   ]
  }
 ],
 "metadata": {
  "kernelspec": {
   "display_name": "Python [conda env:Anaconda3]",
   "language": "python",
   "name": "conda-env-Anaconda3-py"
  },
  "language_info": {
   "codemirror_mode": {
    "name": "ipython",
    "version": 3
   },
   "file_extension": ".py",
   "mimetype": "text/x-python",
   "name": "python",
   "nbconvert_exporter": "python",
   "pygments_lexer": "ipython3",
   "version": "3.6.5"
  }
 },
 "nbformat": 4,
 "nbformat_minor": 2
}
